{
  "nbformat": 4,
  "nbformat_minor": 0,
  "metadata": {
    "colab": {
      "provenance": [],
      "collapsed_sections": [],
      "authorship_tag": "ABX9TyNUncnQSRJd0DI2Ry1GSAY3",
      "include_colab_link": true
    },
    "kernelspec": {
      "name": "python3",
      "display_name": "Python 3"
    },
    "language_info": {
      "name": "python"
    }
  },
  "cells": [
    {
      "cell_type": "markdown",
      "metadata": {
        "id": "view-in-github",
        "colab_type": "text"
      },
      "source": [
        "<a href=\"https://colab.research.google.com/github/TruongQuocHau110802/AI-subject/blob/main/AI_06_09_2022.ipynb\" target=\"_parent\"><img src=\"https://colab.research.google.com/assets/colab-badge.svg\" alt=\"Open In Colab\"/></a>"
      ]
    },
    {
      "cell_type": "code",
      "execution_count": null,
      "metadata": {
        "id": "1p5SYNjRzZh5"
      },
      "outputs": [],
      "source": [
        "with open('text.txt',mode = 'w') as accounts:\n",
        "  accounts.write('1 Nguyen Van A 8.0\\n')\n",
        "  accounts.write('2 Nguyen Van A 6.8\\n')\n",
        "  accounts.write('3 Le Thi Be 6.8\\n')\n",
        "  accounts.write('4 Le Thi Nga 7.0\\n')"
      ]
    },
    {
      "cell_type": "code",
      "source": [
        "with open('text1.txt',mode = 'w')as accounts:\n",
        "  print ('7:00 Nguyen VAn A',file = accounts)\n",
        "  print ('7:01 Le Thi Be',file = accounts)"
      ],
      "metadata": {
        "id": "mq07G5ynmaxd"
      },
      "execution_count": null,
      "outputs": []
    },
    {
      "cell_type": "code",
      "source": [
        "with open('text.txt',mode = 'r')as accounts:\n",
        "  print(f'{'name':<20}{'score':>20}')\n",
        "  for record in accounts:\n",
        "    name,score = record.split()\n",
        "    print(f'{name:<20}{score:>20}')"
      ],
      "metadata": {
        "colab": {
          "base_uri": "https://localhost:8080/",
          "height": 130
        },
        "id": "FgfexUd2nIS-",
        "outputId": "b94b5241-bf78-40d6-a942-c5a567f5fb5c"
      },
      "execution_count": null,
      "outputs": [
        {
          "output_type": "error",
          "ename": "SyntaxError",
          "evalue": "ignored",
          "traceback": [
            "\u001b[0;36m  File \u001b[0;32m\"<ipython-input-2-0eaa48402e5d>\"\u001b[0;36m, line \u001b[0;32m2\u001b[0m\n\u001b[0;31m    print(f'{'name':<20}{'score':>20}')\u001b[0m\n\u001b[0m                 ^\u001b[0m\n\u001b[0;31mSyntaxError\u001b[0m\u001b[0;31m:\u001b[0m invalid syntax\n"
          ]
        }
      ]
    },
    {
      "cell_type": "code",
      "source": [
        "import pandas as pd\n",
        "url= 'book1.csv'\n",
        "dataframe= pd.read_csv(url)\n",
        "dataframe.head(5)"
      ],
      "metadata": {
        "id": "bSgH6hAVrUZo"
      },
      "execution_count": null,
      "outputs": []
    },
    {
      "cell_type": "code",
      "source": [
        "import pandas as pd\n",
        "dataframe = pd.DataFrame()\n",
        "dataframe['Name']=['Jacky Jackson','Steven Stevenson','Peter']\n",
        "dataframe['Age']=[38,25,18]\n",
        "dataframe['Driver']=[True, False,True]\n",
        "dataframe"
      ],
      "metadata": {
        "id": "zppndOthu2j-"
      },
      "execution_count": null,
      "outputs": []
    },
    {
      "cell_type": "code",
      "source": [
        "import pandas as pd\n",
        "url = 'book1.csv'\n",
        "dataframe= pd.read_csv(url)\n",
        "dataframe.head(10)\n",
        "dataframe.iloc[4]\n",
        "dataframe[:4]\n",
        "dataframe = dataframe.set_index(dataframe['Full name'])\n",
        "dataframe.loc['Nguyen Khac Toan']\n",
        "dataframe[dataframe['Faculty']=='CKM'].head(5)\n",
        "dataframe[ (dataframe['Faculty']=='CKM') & (dataframe['Score']>=5) ].head(5)\n",
        "dataframe['Faculty'].unique()\n",
        "dataframe['Faculty'].value_counts()\n",
        "dataframe.count()"
      ],
      "metadata": {
        "id": "BZP_TKfHx9Td"
      },
      "execution_count": null,
      "outputs": []
    },
    {
      "cell_type": "code",
      "source": [
        "import pandas as pd\n",
        "url = 'book1.csv'\n",
        "dataframe= pd.read_csv(url)\n",
        "dataframe.drop('Faculty',axis = 1).head(9)"
      ],
      "metadata": {
        "id": "OjeOfl0z73uu"
      },
      "execution_count": null,
      "outputs": []
    },
    {
      "cell_type": "code",
      "source": [
        "import pandas as pd\n",
        "url = 'book1.csv'\n",
        "dataframe= pd.read_csv(url)\n",
        "dataframe.drop(['Faculty','Year'],axis = 1).head(5)"
      ],
      "metadata": {
        "id": "toL6Kija7svn"
      },
      "execution_count": null,
      "outputs": []
    },
    {
      "cell_type": "code",
      "source": [
        "import pandas as pd\n",
        "url = 'book1.csv'\n",
        "dataframe= pd.read_csv(url)\n",
        "dataframe.groupby('Year').mean()"
      ],
      "metadata": {
        "id": "FRV6Wxou7-nZ"
      },
      "execution_count": null,
      "outputs": []
    },
    {
      "cell_type": "code",
      "source": [
        "import pandas as pd\n",
        "url = 'book1.csv'\n",
        "dataframe= pd.read_csv(url)\n",
        "dataframe.groupby('Year').count()\n"
      ],
      "metadata": {
        "id": "RLbUgQTM8khJ"
      },
      "execution_count": null,
      "outputs": []
    },
    {
      "cell_type": "code",
      "source": [
        "import pandas as pd\n",
        "url = 'book1.csv'\n",
        "dataframe= pd.read_csv(url)\n",
        "dataframe.groupby(['Year','Faculty']).count()"
      ],
      "metadata": {
        "id": "62mA0QAU8zd7"
      },
      "execution_count": null,
      "outputs": []
    },
    {
      "cell_type": "code",
      "source": [
        "import pandas as pd\n",
        "url = 'book1.csv'\n",
        "dataframe= pd.read_csv(url)\n",
        "dataframe.groupby(['Year','Faculty'])['Score'].count()"
      ],
      "metadata": {
        "id": "FZDDzvLM9A94"
      },
      "execution_count": null,
      "outputs": []
    },
    {
      "cell_type": "code",
      "source": [
        "import pandas as pd\n",
        "url = 'http://winterolympicsmedals.com/medals.csv'\n",
        "data = pd.read_csv(url)\n",
        "data"
      ],
      "metadata": {
        "id": "_k6lYBbT9kPC"
      },
      "execution_count": null,
      "outputs": []
    },
    {
      "cell_type": "code",
      "source": [
        "import pandas as pd\n",
        "url = 'http://winterolympicsmedals.com/medals.csv'\n",
        "data = pd.read_csv(url)\n",
        "data.groupby('NOC')['Medal'].count()"
      ],
      "metadata": {
        "id": "rmkUexa9-YpP"
      },
      "execution_count": null,
      "outputs": []
    },
    {
      "cell_type": "code",
      "source": [
        "import pandas as pd\n",
        "url = 'http://winterolympicsmedals.com/medals.csv'\n",
        "data = pd.read_csv(url)\n",
        "data[ (data['NOC']=='USA') & (data['Medal'] =='Gold') & (data['Event gender'] =='M') ].head(1000)"
      ],
      "metadata": {
        "id": "SlCzJaFLArMo"
      },
      "execution_count": null,
      "outputs": []
    },
    {
      "cell_type": "code",
      "source": [
        "import pandas as pd\n",
        "url = 'book1.csv'\n",
        "data = pd.read_csv(url)\n",
        "data[data['Year']== (data['Year'].max())].head().count()"
      ],
      "metadata": {
        "colab": {
          "base_uri": "https://localhost:8080/"
        },
        "id": "GWqcfSvQcb0G",
        "outputId": "c79207da-6428-43d3-f100-83d5906220b3"
      },
      "execution_count": null,
      "outputs": [
        {
          "output_type": "execute_result",
          "data": {
            "text/plain": [
              "NO            1\n",
              "Full name     1\n",
              "Student ID    1\n",
              "Score         1\n",
              "Year          1\n",
              "Faculty       1\n",
              "dtype: int64"
            ]
          },
          "metadata": {},
          "execution_count": 18
        }
      ]
    }
  ]
}