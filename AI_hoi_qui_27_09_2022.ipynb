{
  "nbformat": 4,
  "nbformat_minor": 0,
  "metadata": {
    "colab": {
      "provenance": [],
      "collapsed_sections": [],
      "authorship_tag": "ABX9TyMPkF8upX5n4cGeeoAcBNHF",
      "include_colab_link": true
    },
    "kernelspec": {
      "name": "python3",
      "display_name": "Python 3"
    },
    "language_info": {
      "name": "python"
    }
  },
  "cells": [
    {
      "cell_type": "markdown",
      "metadata": {
        "id": "view-in-github",
        "colab_type": "text"
      },
      "source": [
        "<a href=\"https://colab.research.google.com/github/TruongQuocHau110802/AI-subject/blob/main/AI_hoi_qui_27_09_2022.ipynb\" target=\"_parent\"><img src=\"https://colab.research.google.com/assets/colab-badge.svg\" alt=\"Open In Colab\"/></a>"
      ]
    },
    {
      "cell_type": "code",
      "execution_count": 1,
      "metadata": {
        "id": "Y9VMmkJ1r8Oc",
        "colab": {
          "base_uri": "https://localhost:8080/"
        },
        "outputId": "afae9ee3-9ebc-42f4-f7c7-494893fe3d6b"
      },
      "outputs": [
        {
          "output_type": "stream",
          "name": "stdout",
          "text": [
            "Looking in indexes: https://pypi.org/simple, https://us-python.pkg.dev/colab-wheels/public/simple/\n",
            "Collecting scikit-fuzzy\n",
            "  Downloading scikit-fuzzy-0.4.2.tar.gz (993 kB)\n",
            "\u001b[K     |████████████████████████████████| 993 kB 4.9 MB/s \n",
            "\u001b[?25hRequirement already satisfied: numpy>=1.6.0 in /usr/local/lib/python3.7/dist-packages (from scikit-fuzzy) (1.21.6)\n",
            "Requirement already satisfied: scipy>=0.9.0 in /usr/local/lib/python3.7/dist-packages (from scikit-fuzzy) (1.7.3)\n",
            "Requirement already satisfied: networkx>=1.9.0 in /usr/local/lib/python3.7/dist-packages (from scikit-fuzzy) (2.6.3)\n",
            "Building wheels for collected packages: scikit-fuzzy\n",
            "  Building wheel for scikit-fuzzy (setup.py) ... \u001b[?25l\u001b[?25hdone\n",
            "  Created wheel for scikit-fuzzy: filename=scikit_fuzzy-0.4.2-py3-none-any.whl size=894089 sha256=3c9ff206bfba260ed1baa9d667c3e7a4cf0982f35d59d88bb715bf1004183e12\n",
            "  Stored in directory: /root/.cache/pip/wheels/d5/74/fc/38588a3d2e3f34f74588e6daa3aa5b0a322bd6f9420a707131\n",
            "Successfully built scikit-fuzzy\n",
            "Installing collected packages: scikit-fuzzy\n",
            "Successfully installed scikit-fuzzy-0.4.2\n"
          ]
        }
      ],
      "source": [
        "pip install scikit-fuzzy"
      ]
    },
    {
      "cell_type": "code",
      "source": [
        "import numpy as np\n",
        "import skfuzzy as fuzz\n",
        "from skfuzzy import control as ctrl\n",
        "temp = ctrl.Antecedent(np.arange(20.4,42.2,0.01),'temp')\n",
        "wind = ctrl.Antecedent(np.arange(0.7,4.1,0.01),'wind')\n",
        "rain = ctrl.Consequent(np.arange(0.2,10.1,0.01),'rain')\n",
        "temp['very low'] = fuzz.trimf(temp.universe,[20.4,20.4,25.6])\n",
        "temp['low'] = fuzz.trimf(temp.universe,[20.4,25.6,30.8])\n",
        "temp['normal'] = fuzz.trimf(temp.universe,[25.6,30.8,36])\n",
        "temp['high'] = fuzz.trimf(temp.universe,[30.8,36,41.2])\n",
        "temp['very high'] = fuzz.trimf(temp.universe,[36,41.2,41.2])\n",
        "\n",
        "wind['very low'] = fuzz.trimf(wind.universe,[0.7,0.7,1.3])\n",
        "wind['low'] = fuzz.trimf(wind.universe,[0.7,1.3,1.9])\n",
        "wind['normal'] = fuzz.trimf(wind.universe,[1.3,1.9,2.5])\n",
        "wind['high'] = fuzz.trimf(wind.universe,[1.9,2.5,3.1])\n",
        "wind['very high'] = fuzz.trimf(wind.universe,[2.5,3.1,3.1])\n",
        "\n",
        "rain['very low'] = fuzz.trimf(rain.universe,[0.2,1.69,3.18])\n",
        "rain['low'] = fuzz.trimf(rain.universe,[1.69,3.18,4.67])\n",
        "rain['normal'] = fuzz.trimf(rain.universe,[3.18,4.67,6.16])\n",
        "rain['high'] = fuzz.trimf(rain.universe,[4.67,6.16,7.65])\n",
        "rain['very high'] = fuzz.trimf(rain.universe,[6.16,7.65,9.1])\n",
        "#temp.view()\n",
        "#wind.view()\n",
        "#rain.view()\n",
        "\n",
        "rule1 = ctrl.Rule(temp['very low']&wind['very low'],rain['very low'])\n",
        "rule2 = ctrl.Rule(temp['very low']&wind['low'],rain['very low'])\n",
        "rule3 = ctrl.Rule(temp['very low']&wind['normal'],rain['very low'])\n",
        "rule4 = ctrl.Rule(temp['very low']&wind['high'],rain['low'])\n",
        "rule5 = ctrl.Rule(temp['very low']&wind['very high'],rain['normal'])\n",
        "rule6 = ctrl.Rule(temp['low']&wind['very low'],rain['very low'])\n",
        "rule7 = ctrl.Rule(temp['low']&wind['low'],rain['very low'])\n",
        "rule8 = ctrl.Rule(temp['low']&wind['normal'],rain['low'])\n",
        "rule9 = ctrl.Rule(temp['low']&wind['high'],rain['normal'])\n",
        "rule10 = ctrl.Rule(temp['low']&wind['very high'],rain['normal'])\n",
        "rule11 = ctrl.Rule(temp['normal']&wind['very low'],rain['low'])\n",
        "rule12 = ctrl.Rule(temp['normal']&wind['low'],rain['low'])\n",
        "rule13 = ctrl.Rule(temp['normal']&wind['normal'],rain['normal'])\n",
        "rule14 = ctrl.Rule(temp['normal']&wind['high'],rain['high'])\n",
        "rule15 = ctrl.Rule(temp['normal']&wind['very high'],rain['high'])\n",
        "rule16 = ctrl.Rule(temp['high']&wind['very low'],rain['normal'])\n",
        "rule17 = ctrl.Rule(temp['high']&wind['low'],rain['low'])\n",
        "rule18 = ctrl.Rule(temp['high']&wind['normal'],rain['high'])\n",
        "rule19 = ctrl.Rule(temp['high']&wind['high'],rain['high'])\n",
        "rule20 = ctrl.Rule(temp['high']&wind['very high'],rain['very high'])\n",
        "rule21 = ctrl.Rule(temp['very high']&wind['very low'],rain['normal'])\n",
        "rule22 = ctrl.Rule(temp['very high']&wind['low'],rain['normal'])\n",
        "rule23 = ctrl.Rule(temp['very high']&wind['normal'],rain['high'])\n",
        "rule24 = ctrl.Rule(temp['very high']&wind['high'],rain['very high'])\n",
        "rule25 = ctrl.Rule(temp['very high']&wind['very high'],rain['very high'])\n",
        "\n",
        "raining_ctrl = ctrl.ControlSystem([rule1,rule2,rule3,rule4,rule5,rule6,rule7,\n",
        "                                    rule8,rule9,rule10,rule11,rule12,rule13,rule14,\n",
        "                                    rule15,rule16,rule17,rule18,rule19,rule20,rule21,\n",
        "                                    rule22,rule23,rule24,rule25])\n",
        "raining = ctrl.ControlSystemSimulation(raining_ctrl)\n",
        "raining.input['wind'] = 1.9\n",
        "raining.input['temp'] = 30.8\n",
        "raining.compute()\n",
        "print(raining.output['rain'])\n",
        "rain.view(sim = raining)\n"
      ],
      "metadata": {
        "id": "YhtnmczMxIBx",
        "colab": {
          "base_uri": "https://localhost:8080/",
          "height": 298
        },
        "outputId": "49d224de-56b9-42db-f474-4431793d61e9"
      },
      "execution_count": null,
      "outputs": [
        {
          "output_type": "stream",
          "name": "stdout",
          "text": [
            "4.67000000000001\n"
          ]
        },
        {
          "output_type": "display_data",
          "data": {
            "text/plain": [
              "<Figure size 432x288 with 1 Axes>"
            ],
            "image/png": "[encoded data removed]"
          },
          "metadata": {
            "needs_background": "light"
          }
        }
      ]
    },
    {
      "cell_type": "code",
      "source": [
        "height = ctrl.Antecedent(np.arange(1.5,1.8,0.1),'height')\n",
        "weight = ctrl.Antecedent(np.arange(40,80,0.1),'weight')\n",
        "BMI = ctrl.Consequent(np.arange(0,28,0.1),'BMI')\n",
        "height['very low'] = fuzz.trimf(height.universe,[20.4,20.4,25.6])\n",
        "height['low'] = fuzz.trimf(height.universe,[20.4,25.6,30.8])\n",
        "height['normal'] = fuzz.trimf(height.universe,[25.6,30.8,36])\n",
        "height['high'] = fuzz.trimf(height.universe,[30.8,36,41.2])\n",
        "height['very high'] = fuzz.trimf(height.universe,[36,41.2,41.2])\n",
        "\n",
        "weight['very low'] = fuzz.trimf(weight.universe,[0.7,0.7,1.3])\n",
        "weight['low'] = fuzz.trimf(weight.universe,[0.7,1.3,1.9])\n",
        "weight['normal'] = fuzz.trimf(weight.universe,[1.3,1.9,2.5])\n",
        "weight['high'] = fuzz.trimf(weight.universe,[1.9,2.5,3.1])\n",
        "weight['very high'] = fuzz.trimf(weight.universe,[2.5,3.1,3.1])\n",
        "\n",
        "BMI['skinny'] = fuzz.trimf(BMI.universe,[0.2,1.69,3.18])\n",
        "BMI['thin'] = fuzz.trimf(BMI.universe,[1.69,3.18,4.67])\n",
        "BMI['normal'] = fuzz.trimf(BMI.universe,[3.18,4.67,6.16])\n",
        "BMI['overweight'] = fuzz.trimf(BMI.universe,[4.67,6.16,7.65])\n",
        "BMI['obesity'] = fuzz.trimf(BMI.universe,[6.16,7.65,9.1])"
      ],
      "metadata": {
        "id": "LlXL6LPc6nCJ"
      },
      "execution_count": null,
      "outputs": []
    },
    {
      "cell_type": "code",
      "source": [
        "import numpy as np\n",
        "import pandas as pd\n",
        "import matplotlib.pyplot as plt\n",
        "import seaborn as sns\n",
        "url = 'Salary_Data.csv'\n",
        "data = pd.read_csv(url)\n",
        "#data.head()\n",
        "#data.shape\n",
        "x = data.drop(['Salary'],axis = True)\n",
        "y = data['Salary']\n",
        "x"
      ],
      "metadata": {
        "id": "lKOJIXHpCGLD"
      },
      "execution_count": null,
      "outputs": []
    },
    {
      "cell_type": "code",
      "source": [
        "from sklearn.model_selection import train_test_split\n",
        "x_train, x_test, y_train, y_test = train_test_split(x,y,test_size = 0.2, random_state = 42)\n",
        "x_train.shape, x_test.shape, y_train.shape, y_test.shape\n",
        "sns.pairplot(data)"
      ],
      "metadata": {
        "id": "Li32tDEdINKQ"
      },
      "execution_count": null,
      "outputs": []
    },
    {
      "cell_type": "code",
      "source": [
        "plt.plot(x_train, y_train, 'r.', label = 'Train Data')\n",
        "plt.xlabel('Year Experience')\n",
        "plt.ylabel('Salary')\n",
        "plt.legend()\n",
        "plt.show()"
      ],
      "metadata": {
        "id": "70JL7h1QIKwm"
      },
      "execution_count": null,
      "outputs": []
    },
    {
      "cell_type": "code",
      "source": [
        "from sklearn.linear_model import LinearRegression\n",
        "model = LinearRegression()\n",
        "model.fit(x_train, y_train)\n",
        "y_pred = model.predict(x_test).round(1)\n",
        "cal = pd.DataFrame(np.c_[y_test,y_pred],columns = ['Original Salary','Predicted Salary'])\n",
        "cal\n",
        "print('Coeffient',model.coef_)\n",
        "print('Intercept',model.intercept_)\n",
        "print('Accuracy',model.score(x_train,y_train))"
      ],
      "metadata": {
        "colab": {
          "base_uri": "https://localhost:8080/"
        },
        "id": "9TceXZjXJW_L",
        "outputId": "e02bf00b-0d9b-4fa3-8140-709a097631c9"
      },
      "execution_count": null,
      "outputs": [
        {
          "output_type": "stream",
          "name": "stdout",
          "text": [
            "Coeffient [9423.81532303]\n",
            "Intercept 25321.583011776813\n",
            "Accuracy 0.9024461774180497\n"
          ]
        }
      ]
    },
    {
      "cell_type": "code",
      "source": [
        "plt.scatter(x_train, y_train, color = 'red')\n",
        "plt.plot(x_train, model.predict(x_train),color = 'blue')\n",
        "plt.title('Salary vs Experience (Train set)')\n",
        "plt.xlabel('Years of Experience')\n",
        "plt.ylabel('Salary')\n",
        "plt.show()"
      ],
      "metadata": {
        "colab": {
          "base_uri": "https://localhost:8080/",
          "height": 295
        },
        "id": "uTps6N9KMCMW",
        "outputId": "830686d5-7c7b-4139-b4e7-fcba49de6e7d"
      },
      "execution_count": null,
      "outputs": [
        {
          "output_type": "display_data",
          "data": {
            "text/plain": [
              "<Figure size 432x288 with 1 Axes>"
            ],
            "image/png": "[encoded data removed]"
          },
          "metadata": {
            "needs_background": "light"
          }
        }
      ]
    }
  ]
}